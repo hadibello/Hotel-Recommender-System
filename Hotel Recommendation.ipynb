{
 "cells": [
  {
   "cell_type": "code",
   "execution_count": 1,
   "metadata": {},
   "outputs": [],
   "source": [
    "import pandas as pd #library for processing dataframes"
   ]
  },
  {
   "cell_type": "code",
   "execution_count": 2,
   "metadata": {},
   "outputs": [],
   "source": [
    "#import datasets\n",
    "hotel_price = pd.read_csv('hotels_RoomPrice.csv')\n",
    "hotel_att = pd.read_csv('Hotel_Room_attributes.csv')\n",
    "hotel_dets = pd.read_csv('Hotel_details.csv')"
   ]
  },
  {
   "cell_type": "code",
   "execution_count": 3,
   "metadata": {},
   "outputs": [],
   "source": [
    "#ensure all columns are displayed\n",
    "pd.set_option('display.max_columns', 500)"
   ]
  },
  {
   "cell_type": "markdown",
   "metadata": {},
   "source": [
    "\n",
    "# EDA"
   ]
  },
  {
   "cell_type": "code",
   "execution_count": 4,
   "metadata": {
    "scrolled": true
   },
   "outputs": [
    {
     "data": {
      "text/html": [
       "<div>\n",
       "<style scoped>\n",
       "    .dataframe tbody tr th:only-of-type {\n",
       "        vertical-align: middle;\n",
       "    }\n",
       "\n",
       "    .dataframe tbody tr th {\n",
       "        vertical-align: top;\n",
       "    }\n",
       "\n",
       "    .dataframe thead th {\n",
       "        text-align: right;\n",
       "    }\n",
       "</style>\n",
       "<table border=\"1\" class=\"dataframe\">\n",
       "  <thead>\n",
       "    <tr style=\"text-align: right;\">\n",
       "      <th></th>\n",
       "      <th>id</th>\n",
       "      <th>refid</th>\n",
       "      <th>hotelcode</th>\n",
       "      <th>websitecode</th>\n",
       "      <th>dtcollected</th>\n",
       "      <th>ratedate</th>\n",
       "      <th>los</th>\n",
       "      <th>guests</th>\n",
       "      <th>roomtype</th>\n",
       "      <th>onsiterate</th>\n",
       "      <th>netrate</th>\n",
       "      <th>currency</th>\n",
       "      <th>ratedescription</th>\n",
       "      <th>ratetype</th>\n",
       "      <th>sourceurl</th>\n",
       "      <th>roomamenities</th>\n",
       "      <th>maxoccupancy</th>\n",
       "      <th>ispromo</th>\n",
       "      <th>closed</th>\n",
       "      <th>discount</th>\n",
       "      <th>promoname</th>\n",
       "      <th>status_code</th>\n",
       "      <th>taxstatus</th>\n",
       "      <th>taxtype</th>\n",
       "      <th>taxamount</th>\n",
       "      <th>proxyused</th>\n",
       "      <th>israteperstay</th>\n",
       "      <th>mealinclusiontype</th>\n",
       "      <th>hotelblock</th>\n",
       "      <th>input_dtcollected</th>\n",
       "    </tr>\n",
       "  </thead>\n",
       "  <tbody>\n",
       "    <tr>\n",
       "      <th>0</th>\n",
       "      <td>50677497</td>\n",
       "      <td>8646773</td>\n",
       "      <td>634876</td>\n",
       "      <td>5</td>\n",
       "      <td>2019-10-12 15:46:54</td>\n",
       "      <td>2019-11-02</td>\n",
       "      <td>1</td>\n",
       "      <td>1</td>\n",
       "      <td>Double Room</td>\n",
       "      <td>82.36</td>\n",
       "      <td>87.84</td>\n",
       "      <td>USD</td>\n",
       "      <td>Room size: 15 m²/161 ft², Shower, 1 king bed</td>\n",
       "      <td>Cancellation policy</td>\n",
       "      <td>https://www.agoda.com/en-gb/the-old-cider-hous...</td>\n",
       "      <td>Air conditioning: ;Alarm clock: ;Carpeting: ;C...</td>\n",
       "      <td>1</td>\n",
       "      <td>Y</td>\n",
       "      <td>N</td>\n",
       "      <td>6.24</td>\n",
       "      <td>NaN</td>\n",
       "      <td>200</td>\n",
       "      <td>2</td>\n",
       "      <td>NaN</td>\n",
       "      <td>0.0</td>\n",
       "      <td>media:M3diAproxy@173.44.165.126:80</td>\n",
       "      <td>Y</td>\n",
       "      <td>Free Breakfast</td>\n",
       "      <td>NaN</td>\n",
       "      <td>2019-10-13</td>\n",
       "    </tr>\n",
       "    <tr>\n",
       "      <th>1</th>\n",
       "      <td>50672149</td>\n",
       "      <td>6234691</td>\n",
       "      <td>8328096</td>\n",
       "      <td>5</td>\n",
       "      <td>2019-10-12 15:47:45</td>\n",
       "      <td>2019-11-30</td>\n",
       "      <td>1</td>\n",
       "      <td>1</td>\n",
       "      <td>Vacation Home</td>\n",
       "      <td>636.09</td>\n",
       "      <td>0.00</td>\n",
       "      <td>USD</td>\n",
       "      <td>Shower, Kitchenette, 2 bedrooms, 1 double bed ...</td>\n",
       "      <td>Cancellation policy</td>\n",
       "      <td>https://www.agoda.com/en-gb/pantlleni/hotel/be...</td>\n",
       "      <td>Air conditioning: ;Closet: ;Fireplace: ;Free W...</td>\n",
       "      <td>4</td>\n",
       "      <td>N</td>\n",
       "      <td>N</td>\n",
       "      <td>0.00</td>\n",
       "      <td>NaN</td>\n",
       "      <td>200</td>\n",
       "      <td>2</td>\n",
       "      <td>NaN</td>\n",
       "      <td>0.0</td>\n",
       "      <td>media:M3diAproxy@173.44.164.126:80</td>\n",
       "      <td>Y</td>\n",
       "      <td>NaN</td>\n",
       "      <td>NaN</td>\n",
       "      <td>2019-10-13</td>\n",
       "    </tr>\n",
       "    <tr>\n",
       "      <th>2</th>\n",
       "      <td>50643430</td>\n",
       "      <td>7015677</td>\n",
       "      <td>8323442</td>\n",
       "      <td>5</td>\n",
       "      <td>2019-10-12 15:47:00</td>\n",
       "      <td>2019-12-20</td>\n",
       "      <td>1</td>\n",
       "      <td>1</td>\n",
       "      <td>Vacation Home</td>\n",
       "      <td>591.74</td>\n",
       "      <td>0.00</td>\n",
       "      <td>USD</td>\n",
       "      <td>Shower, Kitchenette, 2 bedrooms, 1 double bed ...</td>\n",
       "      <td>Extra low price! (non-refundable)</td>\n",
       "      <td>https://www.agoda.com/en-gb/willow-cottage/hot...</td>\n",
       "      <td>Air conditioning: ;Closet: ;Dishwasher: ;Firep...</td>\n",
       "      <td>4</td>\n",
       "      <td>N</td>\n",
       "      <td>N</td>\n",
       "      <td>0.00</td>\n",
       "      <td>NaN</td>\n",
       "      <td>200</td>\n",
       "      <td>2</td>\n",
       "      <td>NaN</td>\n",
       "      <td>0.0</td>\n",
       "      <td>media:M3diAproxy@173.44.166.122:80</td>\n",
       "      <td>Y</td>\n",
       "      <td>NaN</td>\n",
       "      <td>NaN</td>\n",
       "      <td>2019-10-13</td>\n",
       "    </tr>\n",
       "    <tr>\n",
       "      <th>3</th>\n",
       "      <td>50650317</td>\n",
       "      <td>7327094</td>\n",
       "      <td>7975</td>\n",
       "      <td>5</td>\n",
       "      <td>2019-10-12 15:47:02</td>\n",
       "      <td>2019-12-28</td>\n",
       "      <td>1</td>\n",
       "      <td>1</td>\n",
       "      <td>Standard Triple Room</td>\n",
       "      <td>881.48</td>\n",
       "      <td>0.00</td>\n",
       "      <td>USD</td>\n",
       "      <td>Room size: 20 m²/215 ft², Shower, 3 single beds</td>\n",
       "      <td>Extra low price! (non-refundable)</td>\n",
       "      <td>https://www.agoda.com/en-gb/apollo-hotel-londo...</td>\n",
       "      <td>Air conditioning: ;Clothes rack: ;Coffee/tea m...</td>\n",
       "      <td>1</td>\n",
       "      <td>N</td>\n",
       "      <td>N</td>\n",
       "      <td>0.00</td>\n",
       "      <td>NaN</td>\n",
       "      <td>200</td>\n",
       "      <td>2</td>\n",
       "      <td>Tax 20%</td>\n",
       "      <td>0.0</td>\n",
       "      <td>media:M3diAproxy@209.242.219.141:80</td>\n",
       "      <td>Y</td>\n",
       "      <td>NaN</td>\n",
       "      <td>NaN</td>\n",
       "      <td>2019-10-13</td>\n",
       "    </tr>\n",
       "    <tr>\n",
       "      <th>4</th>\n",
       "      <td>50650318</td>\n",
       "      <td>7327094</td>\n",
       "      <td>7975</td>\n",
       "      <td>5</td>\n",
       "      <td>2019-10-12 15:47:02</td>\n",
       "      <td>2019-12-28</td>\n",
       "      <td>1</td>\n",
       "      <td>1</td>\n",
       "      <td>Standard Triple Room</td>\n",
       "      <td>897.53</td>\n",
       "      <td>0.00</td>\n",
       "      <td>USD</td>\n",
       "      <td>Room size: 20 m²/215 ft², Shower, 3 single beds</td>\n",
       "      <td>Extra low price! (non-refundable)</td>\n",
       "      <td>https://www.agoda.com/en-gb/apollo-hotel-londo...</td>\n",
       "      <td>Air conditioning: ;Clothes rack: ;Coffee/tea m...</td>\n",
       "      <td>3</td>\n",
       "      <td>N</td>\n",
       "      <td>N</td>\n",
       "      <td>0.00</td>\n",
       "      <td>NaN</td>\n",
       "      <td>200</td>\n",
       "      <td>2</td>\n",
       "      <td>VAT $ 179.51</td>\n",
       "      <td>0.0</td>\n",
       "      <td>media:M3diAproxy@209.242.219.141:80</td>\n",
       "      <td>Y</td>\n",
       "      <td>Free breakfast for {3}</td>\n",
       "      <td>NaN</td>\n",
       "      <td>2019-10-13</td>\n",
       "    </tr>\n",
       "  </tbody>\n",
       "</table>\n",
       "</div>"
      ],
      "text/plain": [
       "         id    refid  hotelcode  websitecode          dtcollected    ratedate  \\\n",
       "0  50677497  8646773     634876            5  2019-10-12 15:46:54  2019-11-02   \n",
       "1  50672149  6234691    8328096            5  2019-10-12 15:47:45  2019-11-30   \n",
       "2  50643430  7015677    8323442            5  2019-10-12 15:47:00  2019-12-20   \n",
       "3  50650317  7327094       7975            5  2019-10-12 15:47:02  2019-12-28   \n",
       "4  50650318  7327094       7975            5  2019-10-12 15:47:02  2019-12-28   \n",
       "\n",
       "   los  guests              roomtype  onsiterate  netrate currency  \\\n",
       "0    1       1           Double Room       82.36    87.84      USD   \n",
       "1    1       1         Vacation Home      636.09     0.00      USD   \n",
       "2    1       1         Vacation Home      591.74     0.00      USD   \n",
       "3    1       1  Standard Triple Room      881.48     0.00      USD   \n",
       "4    1       1  Standard Triple Room      897.53     0.00      USD   \n",
       "\n",
       "                                     ratedescription  \\\n",
       "0       Room size: 15 m²/161 ft², Shower, 1 king bed   \n",
       "1  Shower, Kitchenette, 2 bedrooms, 1 double bed ...   \n",
       "2  Shower, Kitchenette, 2 bedrooms, 1 double bed ...   \n",
       "3    Room size: 20 m²/215 ft², Shower, 3 single beds   \n",
       "4    Room size: 20 m²/215 ft², Shower, 3 single beds   \n",
       "\n",
       "                            ratetype  \\\n",
       "0                Cancellation policy   \n",
       "1                Cancellation policy   \n",
       "2  Extra low price! (non-refundable)   \n",
       "3  Extra low price! (non-refundable)   \n",
       "4  Extra low price! (non-refundable)   \n",
       "\n",
       "                                           sourceurl  \\\n",
       "0  https://www.agoda.com/en-gb/the-old-cider-hous...   \n",
       "1  https://www.agoda.com/en-gb/pantlleni/hotel/be...   \n",
       "2  https://www.agoda.com/en-gb/willow-cottage/hot...   \n",
       "3  https://www.agoda.com/en-gb/apollo-hotel-londo...   \n",
       "4  https://www.agoda.com/en-gb/apollo-hotel-londo...   \n",
       "\n",
       "                                       roomamenities  maxoccupancy ispromo  \\\n",
       "0  Air conditioning: ;Alarm clock: ;Carpeting: ;C...             1       Y   \n",
       "1  Air conditioning: ;Closet: ;Fireplace: ;Free W...             4       N   \n",
       "2  Air conditioning: ;Closet: ;Dishwasher: ;Firep...             4       N   \n",
       "3  Air conditioning: ;Clothes rack: ;Coffee/tea m...             1       N   \n",
       "4  Air conditioning: ;Clothes rack: ;Coffee/tea m...             3       N   \n",
       "\n",
       "  closed  discount promoname  status_code  taxstatus       taxtype  taxamount  \\\n",
       "0      N      6.24       NaN          200          2           NaN        0.0   \n",
       "1      N      0.00       NaN          200          2           NaN        0.0   \n",
       "2      N      0.00       NaN          200          2           NaN        0.0   \n",
       "3      N      0.00       NaN          200          2       Tax 20%        0.0   \n",
       "4      N      0.00       NaN          200          2  VAT $ 179.51        0.0   \n",
       "\n",
       "                             proxyused israteperstay       mealinclusiontype  \\\n",
       "0   media:M3diAproxy@173.44.165.126:80             Y          Free Breakfast   \n",
       "1   media:M3diAproxy@173.44.164.126:80             Y                     NaN   \n",
       "2   media:M3diAproxy@173.44.166.122:80             Y                     NaN   \n",
       "3  media:M3diAproxy@209.242.219.141:80             Y                     NaN   \n",
       "4  media:M3diAproxy@209.242.219.141:80             Y  Free breakfast for {3}   \n",
       "\n",
       "  hotelblock input_dtcollected  \n",
       "0        NaN        2019-10-13  \n",
       "1        NaN        2019-10-13  \n",
       "2        NaN        2019-10-13  \n",
       "3        NaN        2019-10-13  \n",
       "4        NaN        2019-10-13  "
      ]
     },
     "execution_count": 4,
     "metadata": {},
     "output_type": "execute_result"
    }
   ],
   "source": [
    "#preview data\n",
    "hotel_price.head()"
   ]
  },
  {
   "cell_type": "code",
   "execution_count": 5,
   "metadata": {},
   "outputs": [
    {
     "data": {
      "text/html": [
       "<div>\n",
       "<style scoped>\n",
       "    .dataframe tbody tr th:only-of-type {\n",
       "        vertical-align: middle;\n",
       "    }\n",
       "\n",
       "    .dataframe tbody tr th {\n",
       "        vertical-align: top;\n",
       "    }\n",
       "\n",
       "    .dataframe thead th {\n",
       "        text-align: right;\n",
       "    }\n",
       "</style>\n",
       "<table border=\"1\" class=\"dataframe\">\n",
       "  <thead>\n",
       "    <tr style=\"text-align: right;\">\n",
       "      <th></th>\n",
       "      <th>id</th>\n",
       "      <th>hotelid</th>\n",
       "      <th>hotelname</th>\n",
       "      <th>address</th>\n",
       "      <th>city</th>\n",
       "      <th>country</th>\n",
       "      <th>zipcode</th>\n",
       "      <th>propertytype</th>\n",
       "      <th>starrating</th>\n",
       "      <th>latitude</th>\n",
       "      <th>longitude</th>\n",
       "      <th>Source</th>\n",
       "      <th>url</th>\n",
       "      <th>curr</th>\n",
       "    </tr>\n",
       "  </thead>\n",
       "  <tbody>\n",
       "    <tr>\n",
       "      <th>0</th>\n",
       "      <td>46406</td>\n",
       "      <td>1771651</td>\n",
       "      <td>Mediteran Bungalow Galeb</td>\n",
       "      <td>Vukovarska 7</td>\n",
       "      <td>Omis</td>\n",
       "      <td>Croatia</td>\n",
       "      <td>21310.0</td>\n",
       "      <td>Holiday parks</td>\n",
       "      <td>4</td>\n",
       "      <td>43.440124</td>\n",
       "      <td>16.682505</td>\n",
       "      <td>2</td>\n",
       "      <td>https://www.booking.com/hotel/hr/bungalow-luxu...</td>\n",
       "      <td>EUR</td>\n",
       "    </tr>\n",
       "    <tr>\n",
       "      <th>1</th>\n",
       "      <td>46407</td>\n",
       "      <td>177167</td>\n",
       "      <td>Hotel Polonia</td>\n",
       "      <td>Plac Teatralny 5</td>\n",
       "      <td>Torun</td>\n",
       "      <td>Poland</td>\n",
       "      <td>NaN</td>\n",
       "      <td>Hotels</td>\n",
       "      <td>3</td>\n",
       "      <td>53.012329</td>\n",
       "      <td>18.603800</td>\n",
       "      <td>5</td>\n",
       "      <td>https://www.agoda.com/en-gb/hotel-polonia/hote...</td>\n",
       "      <td>EUR</td>\n",
       "    </tr>\n",
       "    <tr>\n",
       "      <th>2</th>\n",
       "      <td>46408</td>\n",
       "      <td>1771675</td>\n",
       "      <td>Rifugio Sass Bece</td>\n",
       "      <td>Belvedere del Pordoi,1</td>\n",
       "      <td>Canazei</td>\n",
       "      <td>Italy</td>\n",
       "      <td>38032.0</td>\n",
       "      <td>Hotels</td>\n",
       "      <td>3</td>\n",
       "      <td>46.477920</td>\n",
       "      <td>11.813350</td>\n",
       "      <td>2</td>\n",
       "      <td>http://www.booking.com/hotel/it/rifugio-sass-b...</td>\n",
       "      <td>EUR</td>\n",
       "    </tr>\n",
       "    <tr>\n",
       "      <th>3</th>\n",
       "      <td>46409</td>\n",
       "      <td>177168</td>\n",
       "      <td>Madalena Hotel</td>\n",
       "      <td>Mykonos</td>\n",
       "      <td>Mykonos</td>\n",
       "      <td>Greece</td>\n",
       "      <td>84600.0</td>\n",
       "      <td>Hotels</td>\n",
       "      <td>3</td>\n",
       "      <td>37.452316</td>\n",
       "      <td>25.329849</td>\n",
       "      <td>5</td>\n",
       "      <td>https://www.agoda.com/en-gb/madalena-hotel/hot...</td>\n",
       "      <td>EUR</td>\n",
       "    </tr>\n",
       "    <tr>\n",
       "      <th>4</th>\n",
       "      <td>46410</td>\n",
       "      <td>1771718</td>\n",
       "      <td>Pension Morenfeld</td>\n",
       "      <td>Mair im Korn Strasse 2</td>\n",
       "      <td>Lagundo</td>\n",
       "      <td>Italy</td>\n",
       "      <td>39022.0</td>\n",
       "      <td>Hotels</td>\n",
       "      <td>3</td>\n",
       "      <td>46.682780</td>\n",
       "      <td>11.131736</td>\n",
       "      <td>2</td>\n",
       "      <td>http://www.booking.com/hotel/it/pension-morenf...</td>\n",
       "      <td>EUR</td>\n",
       "    </tr>\n",
       "  </tbody>\n",
       "</table>\n",
       "</div>"
      ],
      "text/plain": [
       "      id  hotelid                 hotelname                 address     city  \\\n",
       "0  46406  1771651  Mediteran Bungalow Galeb            Vukovarska 7     Omis   \n",
       "1  46407   177167             Hotel Polonia        Plac Teatralny 5    Torun   \n",
       "2  46408  1771675         Rifugio Sass Bece  Belvedere del Pordoi,1  Canazei   \n",
       "3  46409   177168            Madalena Hotel                 Mykonos  Mykonos   \n",
       "4  46410  1771718         Pension Morenfeld  Mair im Korn Strasse 2  Lagundo   \n",
       "\n",
       "   country  zipcode   propertytype  starrating   latitude  longitude  Source  \\\n",
       "0  Croatia  21310.0  Holiday parks           4  43.440124  16.682505       2   \n",
       "1   Poland      NaN         Hotels           3  53.012329  18.603800       5   \n",
       "2    Italy  38032.0         Hotels           3  46.477920  11.813350       2   \n",
       "3   Greece  84600.0         Hotels           3  37.452316  25.329849       5   \n",
       "4    Italy  39022.0         Hotels           3  46.682780  11.131736       2   \n",
       "\n",
       "                                                 url curr  \n",
       "0  https://www.booking.com/hotel/hr/bungalow-luxu...  EUR  \n",
       "1  https://www.agoda.com/en-gb/hotel-polonia/hote...  EUR  \n",
       "2  http://www.booking.com/hotel/it/rifugio-sass-b...  EUR  \n",
       "3  https://www.agoda.com/en-gb/madalena-hotel/hot...  EUR  \n",
       "4  http://www.booking.com/hotel/it/pension-morenf...  EUR  "
      ]
     },
     "execution_count": 5,
     "metadata": {},
     "output_type": "execute_result"
    }
   ],
   "source": [
    "hotel_dets.head()"
   ]
  },
  {
   "cell_type": "code",
   "execution_count": 6,
   "metadata": {},
   "outputs": [
    {
     "data": {
      "text/html": [
       "<div>\n",
       "<style scoped>\n",
       "    .dataframe tbody tr th:only-of-type {\n",
       "        vertical-align: middle;\n",
       "    }\n",
       "\n",
       "    .dataframe tbody tr th {\n",
       "        vertical-align: top;\n",
       "    }\n",
       "\n",
       "    .dataframe thead th {\n",
       "        text-align: right;\n",
       "    }\n",
       "</style>\n",
       "<table border=\"1\" class=\"dataframe\">\n",
       "  <thead>\n",
       "    <tr style=\"text-align: right;\">\n",
       "      <th></th>\n",
       "      <th>id</th>\n",
       "      <th>hotelcode</th>\n",
       "      <th>roomamenities</th>\n",
       "      <th>roomtype</th>\n",
       "      <th>ratedescription</th>\n",
       "    </tr>\n",
       "  </thead>\n",
       "  <tbody>\n",
       "    <tr>\n",
       "      <th>0</th>\n",
       "      <td>50677497</td>\n",
       "      <td>634876</td>\n",
       "      <td>Air conditioning: ;Alarm clock: ;Carpeting: ;C...</td>\n",
       "      <td>Double Room</td>\n",
       "      <td>Room size: 15 m²/161 ft², Shower, 1 king bed</td>\n",
       "    </tr>\n",
       "    <tr>\n",
       "      <th>1</th>\n",
       "      <td>50672149</td>\n",
       "      <td>8328096</td>\n",
       "      <td>Air conditioning: ;Closet: ;Fireplace: ;Free W...</td>\n",
       "      <td>Vacation Home</td>\n",
       "      <td>Shower, Kitchenette, 2 bedrooms, 1 double bed ...</td>\n",
       "    </tr>\n",
       "    <tr>\n",
       "      <th>2</th>\n",
       "      <td>50643430</td>\n",
       "      <td>8323442</td>\n",
       "      <td>Air conditioning: ;Closet: ;Dishwasher: ;Firep...</td>\n",
       "      <td>Vacation Home</td>\n",
       "      <td>Shower, Kitchenette, 2 bedrooms, 1 double bed ...</td>\n",
       "    </tr>\n",
       "    <tr>\n",
       "      <th>3</th>\n",
       "      <td>50650317</td>\n",
       "      <td>7975</td>\n",
       "      <td>Air conditioning: ;Clothes rack: ;Coffee/tea m...</td>\n",
       "      <td>Standard Triple Room</td>\n",
       "      <td>Room size: 20 m²/215 ft², Shower, 3 single beds</td>\n",
       "    </tr>\n",
       "    <tr>\n",
       "      <th>4</th>\n",
       "      <td>50650318</td>\n",
       "      <td>7975</td>\n",
       "      <td>Air conditioning: ;Clothes rack: ;Coffee/tea m...</td>\n",
       "      <td>Standard Triple Room</td>\n",
       "      <td>Room size: 20 m²/215 ft², Shower, 3 single beds</td>\n",
       "    </tr>\n",
       "  </tbody>\n",
       "</table>\n",
       "</div>"
      ],
      "text/plain": [
       "         id  hotelcode                                      roomamenities  \\\n",
       "0  50677497     634876  Air conditioning: ;Alarm clock: ;Carpeting: ;C...   \n",
       "1  50672149    8328096  Air conditioning: ;Closet: ;Fireplace: ;Free W...   \n",
       "2  50643430    8323442  Air conditioning: ;Closet: ;Dishwasher: ;Firep...   \n",
       "3  50650317       7975  Air conditioning: ;Clothes rack: ;Coffee/tea m...   \n",
       "4  50650318       7975  Air conditioning: ;Clothes rack: ;Coffee/tea m...   \n",
       "\n",
       "               roomtype                                    ratedescription  \n",
       "0           Double Room       Room size: 15 m²/161 ft², Shower, 1 king bed  \n",
       "1         Vacation Home  Shower, Kitchenette, 2 bedrooms, 1 double bed ...  \n",
       "2         Vacation Home  Shower, Kitchenette, 2 bedrooms, 1 double bed ...  \n",
       "3  Standard Triple Room    Room size: 20 m²/215 ft², Shower, 3 single beds  \n",
       "4  Standard Triple Room    Room size: 20 m²/215 ft², Shower, 3 single beds  "
      ]
     },
     "execution_count": 6,
     "metadata": {},
     "output_type": "execute_result"
    }
   ],
   "source": [
    "hotel_att.head()"
   ]
  },
  {
   "cell_type": "code",
   "execution_count": 7,
   "metadata": {},
   "outputs": [
    {
     "name": "stdout",
     "output_type": "stream",
     "text": [
      "<class 'pandas.core.frame.DataFrame'>\n",
      "RangeIndex: 108048 entries, 0 to 108047\n",
      "Data columns (total 14 columns):\n",
      " #   Column        Non-Null Count   Dtype  \n",
      "---  ------        --------------   -----  \n",
      " 0   id            108048 non-null  int64  \n",
      " 1   hotelid       108048 non-null  int64  \n",
      " 2   hotelname     108048 non-null  object \n",
      " 3   address       102955 non-null  object \n",
      " 4   city          108048 non-null  object \n",
      " 5   country       108048 non-null  object \n",
      " 6   zipcode       83486 non-null   float64\n",
      " 7   propertytype  108048 non-null  object \n",
      " 8   starrating    108048 non-null  int64  \n",
      " 9   latitude      108048 non-null  float64\n",
      " 10  longitude     108048 non-null  float64\n",
      " 11  Source        108048 non-null  int64  \n",
      " 12  url           107937 non-null  object \n",
      " 13  curr          108048 non-null  object \n",
      "dtypes: float64(3), int64(4), object(7)\n",
      "memory usage: 11.5+ MB\n"
     ]
    }
   ],
   "source": [
    "hotel_dets.info()"
   ]
  },
  {
   "cell_type": "code",
   "execution_count": 8,
   "metadata": {},
   "outputs": [
    {
     "name": "stdout",
     "output_type": "stream",
     "text": [
      "<class 'pandas.core.frame.DataFrame'>\n",
      "RangeIndex: 165873 entries, 0 to 165872\n",
      "Data columns (total 5 columns):\n",
      " #   Column           Non-Null Count   Dtype \n",
      "---  ------           --------------   ----- \n",
      " 0   id               165873 non-null  int64 \n",
      " 1   hotelcode        165873 non-null  int64 \n",
      " 2   roomamenities    161054 non-null  object\n",
      " 3   roomtype         165873 non-null  object\n",
      " 4   ratedescription  161054 non-null  object\n",
      "dtypes: int64(2), object(3)\n",
      "memory usage: 6.3+ MB\n"
     ]
    }
   ],
   "source": [
    "hotel_att.info()"
   ]
  },
  {
   "cell_type": "code",
   "execution_count": 9,
   "metadata": {},
   "outputs": [],
   "source": [
    "#drop null values\n",
    "hotel_att=hotel_att.dropna()\n",
    "hotel_dets=hotel_dets.dropna()"
   ]
  },
  {
   "cell_type": "code",
   "execution_count": 10,
   "metadata": {},
   "outputs": [
    {
     "name": "stdout",
     "output_type": "stream",
     "text": [
      "<class 'pandas.core.frame.DataFrame'>\n",
      "Int64Index: 161054 entries, 0 to 165872\n",
      "Data columns (total 5 columns):\n",
      " #   Column           Non-Null Count   Dtype \n",
      "---  ------           --------------   ----- \n",
      " 0   id               161054 non-null  int64 \n",
      " 1   hotelcode        161054 non-null  int64 \n",
      " 2   roomamenities    161054 non-null  object\n",
      " 3   roomtype         161054 non-null  object\n",
      " 4   ratedescription  161054 non-null  object\n",
      "dtypes: int64(2), object(3)\n",
      "memory usage: 7.4+ MB\n"
     ]
    }
   ],
   "source": [
    "hotel_att.info()"
   ]
  },
  {
   "cell_type": "code",
   "execution_count": 11,
   "metadata": {},
   "outputs": [],
   "source": [
    "hotel_dets.drop_duplicates(subset='hotelid', keep=False, inplace=True) #drop duplicated entries"
   ]
  },
  {
   "cell_type": "code",
   "execution_count": 12,
   "metadata": {},
   "outputs": [],
   "source": [
    "hotel = pd.merge(hotel_att, hotel_dets, left_on='hotelcode', right_on='hotelid', how='inner') #merge two dataframes "
   ]
  },
  {
   "cell_type": "code",
   "execution_count": 13,
   "metadata": {},
   "outputs": [
    {
     "data": {
      "text/plain": [
       "Index(['id_x', 'hotelcode', 'roomamenities', 'roomtype', 'ratedescription',\n",
       "       'id_y', 'hotelid', 'hotelname', 'address', 'city', 'country', 'zipcode',\n",
       "       'propertytype', 'starrating', 'latitude', 'longitude', 'Source', 'url',\n",
       "       'curr'],\n",
       "      dtype='object')"
      ]
     },
     "execution_count": 13,
     "metadata": {},
     "output_type": "execute_result"
    }
   ],
   "source": [
    "hotel.columns"
   ]
  },
  {
   "cell_type": "code",
   "execution_count": 14,
   "metadata": {},
   "outputs": [],
   "source": [
    "hotel = hotel.drop(['id_x','id_y','hotelid','zipcode','Source','url','curr'], axis=1)"
   ]
  },
  {
   "cell_type": "code",
   "execution_count": 15,
   "metadata": {},
   "outputs": [
    {
     "data": {
      "text/plain": [
       "Index(['hotelcode', 'roomamenities', 'roomtype', 'ratedescription',\n",
       "       'hotelname', 'address', 'city', 'country', 'propertytype', 'starrating',\n",
       "       'latitude', 'longitude'],\n",
       "      dtype='object')"
      ]
     },
     "execution_count": 15,
     "metadata": {},
     "output_type": "execute_result"
    }
   ],
   "source": [
    "hotel.columns"
   ]
  },
  {
   "cell_type": "markdown",
   "metadata": {},
   "source": [
    "# Recommendation"
   ]
  },
  {
   "cell_type": "code",
   "execution_count": 16,
   "metadata": {},
   "outputs": [],
   "source": [
    "#function to recommend hotels based on ratings\n",
    "def city_hotels(city):\n",
    "    hotel['city'] = hotel['city'].str.lower()\n",
    "    hotels = hotel[hotel['city'] == city.lower()]\n",
    "    hotels = hotels.sort_values(by='starrating', ascending=False)\n",
    "    hotels.drop_duplicates(subset='hotelcode', keep='first', inplace=True)\n",
    "    if(hotels.empty==0):\n",
    "        hotel_n = hotels[['hotelname', 'address', 'starrating', 'roomamenities', 'ratedescription','country']]\n",
    "        return hotel_n\n",
    "    else:\n",
    "        print('No hotel available in city')"
   ]
  },
  {
   "cell_type": "code",
   "execution_count": 17,
   "metadata": {},
   "outputs": [
    {
     "name": "stdout",
     "output_type": "stream",
     "text": [
      "Top 5 hotels in Paris\n"
     ]
    },
    {
     "data": {
      "text/html": [
       "<div>\n",
       "<style scoped>\n",
       "    .dataframe tbody tr th:only-of-type {\n",
       "        vertical-align: middle;\n",
       "    }\n",
       "\n",
       "    .dataframe tbody tr th {\n",
       "        vertical-align: top;\n",
       "    }\n",
       "\n",
       "    .dataframe thead th {\n",
       "        text-align: right;\n",
       "    }\n",
       "</style>\n",
       "<table border=\"1\" class=\"dataframe\">\n",
       "  <thead>\n",
       "    <tr style=\"text-align: right;\">\n",
       "      <th></th>\n",
       "      <th>hotelname</th>\n",
       "      <th>address</th>\n",
       "      <th>starrating</th>\n",
       "      <th>roomamenities</th>\n",
       "      <th>ratedescription</th>\n",
       "      <th>country</th>\n",
       "    </tr>\n",
       "  </thead>\n",
       "  <tbody>\n",
       "    <tr>\n",
       "      <th>78004</th>\n",
       "      <td>Hotel Hor</td>\n",
       "      <td>160, rue la Fayette</td>\n",
       "      <td>4</td>\n",
       "      <td>Air conditioning: ;Alarm clock: ;Closet: ;Clot...</td>\n",
       "      <td>Room size: 32 m²/344 ft², City view, Non-smoki...</td>\n",
       "      <td>France</td>\n",
       "    </tr>\n",
       "    <tr>\n",
       "      <th>38065</th>\n",
       "      <td>AC Hotel Paris Porte Maillot</td>\n",
       "      <td>6 Rue Gustave Charpentier</td>\n",
       "      <td>4</td>\n",
       "      <td>Air conditioning: ;Free Wi-Fi in all rooms!: ;...</td>\n",
       "      <td>Room size: 31 m²/334 ft², 2 single beds and 1 ...</td>\n",
       "      <td>France</td>\n",
       "    </tr>\n",
       "    <tr>\n",
       "      <th>21270</th>\n",
       "      <td>Novotel Suites Paris Expo Pte Versailles</td>\n",
       "      <td>4 Boulevard Brune</td>\n",
       "      <td>4</td>\n",
       "      <td>Air conditioning: ;Alarm clock: ;Bathrobes: ;C...</td>\n",
       "      <td>Room size: 30 m²/323 ft², Shower, Kitchenette,...</td>\n",
       "      <td>France</td>\n",
       "    </tr>\n",
       "    <tr>\n",
       "      <th>19939</th>\n",
       "      <td>Mayfair Hotel</td>\n",
       "      <td>3 Rue Rouget De Lisle</td>\n",
       "      <td>4</td>\n",
       "      <td>Air conditioning: ;Bathrobes: ;Blackout curtai...</td>\n",
       "      <td>Room size: 25 m²/269 ft², Non-smoking, Shower ...</td>\n",
       "      <td>France</td>\n",
       "    </tr>\n",
       "    <tr>\n",
       "      <th>20681</th>\n",
       "      <td>Hotel Mercure Paris Gobelins Place D'Italie</td>\n",
       "      <td>8 Bis Avenue De La Soeur Rosalie</td>\n",
       "      <td>4</td>\n",
       "      <td>Air conditioning: ;Free Wi-Fi in all rooms!: ;...</td>\n",
       "      <td>Room size: 28 m²/301 ft²</td>\n",
       "      <td>France</td>\n",
       "    </tr>\n",
       "  </tbody>\n",
       "</table>\n",
       "</div>"
      ],
      "text/plain": [
       "                                         hotelname  \\\n",
       "78004                                    Hotel Hor   \n",
       "38065                 AC Hotel Paris Porte Maillot   \n",
       "21270     Novotel Suites Paris Expo Pte Versailles   \n",
       "19939                                Mayfair Hotel   \n",
       "20681  Hotel Mercure Paris Gobelins Place D'Italie   \n",
       "\n",
       "                                address  starrating  \\\n",
       "78004               160, rue la Fayette           4   \n",
       "38065         6 Rue Gustave Charpentier           4   \n",
       "21270                 4 Boulevard Brune           4   \n",
       "19939             3 Rue Rouget De Lisle           4   \n",
       "20681  8 Bis Avenue De La Soeur Rosalie           4   \n",
       "\n",
       "                                           roomamenities  \\\n",
       "78004  Air conditioning: ;Alarm clock: ;Closet: ;Clot...   \n",
       "38065  Air conditioning: ;Free Wi-Fi in all rooms!: ;...   \n",
       "21270  Air conditioning: ;Alarm clock: ;Bathrobes: ;C...   \n",
       "19939  Air conditioning: ;Bathrobes: ;Blackout curtai...   \n",
       "20681  Air conditioning: ;Free Wi-Fi in all rooms!: ;...   \n",
       "\n",
       "                                         ratedescription country  \n",
       "78004  Room size: 32 m²/344 ft², City view, Non-smoki...  France  \n",
       "38065  Room size: 31 m²/334 ft², 2 single beds and 1 ...  France  \n",
       "21270  Room size: 30 m²/323 ft², Shower, Kitchenette,...  France  \n",
       "19939  Room size: 25 m²/269 ft², Non-smoking, Shower ...  France  \n",
       "20681                           Room size: 28 m²/301 ft²  France  "
      ]
     },
     "execution_count": 17,
     "metadata": {},
     "output_type": "execute_result"
    }
   ],
   "source": [
    "print('Top 5 hotels in Paris')\n",
    "city_hotels('paris').head()"
   ]
  },
  {
   "cell_type": "code",
   "execution_count": 18,
   "metadata": {},
   "outputs": [],
   "source": [
    "from sklearn.metrics.pairwise import cosine_similarity #to calculate similarities\n",
    "from sklearn.feature_extraction.text import CountVectorizer #to perform vectorization"
   ]
  },
  {
   "cell_type": "code",
   "execution_count": 19,
   "metadata": {},
   "outputs": [],
   "source": [
    "#feature selection\n",
    "hotel_feat = hotel[['hotelname', 'roomamenities', 'starrating', 'ratedescription', 'roomtype', 'country']]"
   ]
  },
  {
   "cell_type": "code",
   "execution_count": 20,
   "metadata": {},
   "outputs": [],
   "source": [
    "#funtion to combine all features\n",
    "def combined_feats(row):\n",
    "    return row['hotelname']+ \" \" + str(row['starrating']) + \" \" + row['roomamenities'] + \" \" + row['ratedescription'] + \" \" + row['roomtype'] + \" \" + row['country']"
   ]
  },
  {
   "cell_type": "code",
   "execution_count": 21,
   "metadata": {},
   "outputs": [
    {
     "name": "stderr",
     "output_type": "stream",
     "text": [
      "<ipython-input-21-4ed6b9017c17>:1: SettingWithCopyWarning: \n",
      "A value is trying to be set on a copy of a slice from a DataFrame.\n",
      "Try using .loc[row_indexer,col_indexer] = value instead\n",
      "\n",
      "See the caveats in the documentation: https://pandas.pydata.org/pandas-docs/stable/user_guide/indexing.html#returning-a-view-versus-a-copy\n",
      "  hotel_feat['comb_feat'] = hotel_feat.apply(combined_feats, axis=1)\n"
     ]
    }
   ],
   "source": [
    "hotel_feat['comb_feat'] = hotel_feat.apply(combined_feats, axis=1)"
   ]
  },
  {
   "cell_type": "code",
   "execution_count": 22,
   "metadata": {},
   "outputs": [],
   "source": [
    "#randomly select a subset of dataset\n",
    "hotel_n = hotel_feat.sample(n=50000)"
   ]
  },
  {
   "cell_type": "code",
   "execution_count": 36,
   "metadata": {},
   "outputs": [
    {
     "name": "stderr",
     "output_type": "stream",
     "text": [
      "<ipython-input-36-eb9b3dfb0c1a>:1: SettingWithCopyWarning: \n",
      "A value is trying to be set on a copy of a slice from a DataFrame\n",
      "\n",
      "See the caveats in the documentation: https://pandas.pydata.org/pandas-docs/stable/user_guide/indexing.html#returning-a-view-versus-a-copy\n",
      "  hotel_feat.drop_duplicates(subset='hotelname', keep='first', inplace=True)\n"
     ]
    }
   ],
   "source": [
    "#drop duplicated hotels\n",
    "hotel_feat.drop_duplicates(subset='hotelname', keep='first', inplace=True)"
   ]
  },
  {
   "cell_type": "code",
   "execution_count": 37,
   "metadata": {},
   "outputs": [
    {
     "name": "stdout",
     "output_type": "stream",
     "text": [
      "<class 'pandas.core.frame.DataFrame'>\n",
      "Int64Index: 4554 entries, 0 to 78195\n",
      "Data columns (total 7 columns):\n",
      " #   Column           Non-Null Count  Dtype \n",
      "---  ------           --------------  ----- \n",
      " 0   hotelname        4554 non-null   object\n",
      " 1   roomamenities    4554 non-null   object\n",
      " 2   starrating       4554 non-null   int64 \n",
      " 3   ratedescription  4554 non-null   object\n",
      " 4   roomtype         4554 non-null   object\n",
      " 5   country          4554 non-null   object\n",
      " 6   comb_feat        4554 non-null   object\n",
      "dtypes: int64(1), object(6)\n",
      "memory usage: 284.6+ KB\n"
     ]
    }
   ],
   "source": [
    "hotel_feat.info()"
   ]
  },
  {
   "cell_type": "code",
   "execution_count": 23,
   "metadata": {},
   "outputs": [],
   "source": [
    "hotel_n.drop_duplicates(subset='hotelname', keep='first', inplace=True)"
   ]
  },
  {
   "cell_type": "code",
   "execution_count": 38,
   "metadata": {},
   "outputs": [
    {
     "name": "stderr",
     "output_type": "stream",
     "text": [
      "<ipython-input-38-561bd333e31f>:1: SettingWithCopyWarning: \n",
      "A value is trying to be set on a copy of a slice from a DataFrame.\n",
      "Try using .loc[row_indexer,col_indexer] = value instead\n",
      "\n",
      "See the caveats in the documentation: https://pandas.pydata.org/pandas-docs/stable/user_guide/indexing.html#returning-a-view-versus-a-copy\n",
      "  hotel_feat['comb_feat'] = hotel_feat['comb_feat'].str.replace(': ;',',')\n"
     ]
    }
   ],
   "source": [
    "hotel_feat['comb_feat'] = hotel_feat['comb_feat'].str.replace(': ;',',')"
   ]
  },
  {
   "cell_type": "code",
   "execution_count": 39,
   "metadata": {},
   "outputs": [],
   "source": [
    "#vectorize combined features\n",
    "cv = CountVectorizer()\n",
    "count_matrix = cv.fit_transform(hotel_feat['comb_feat'])"
   ]
  },
  {
   "cell_type": "code",
   "execution_count": 40,
   "metadata": {},
   "outputs": [
    {
     "name": "stdout",
     "output_type": "stream",
     "text": [
      "[[1.         0.69325224 0.46136787 ... 0.6486493  0.47185072 0.59186403]\n",
      " [0.69325224 1.         0.5001487  ... 0.5819357  0.47853661 0.53099079]\n",
      " [0.46136787 0.5001487  1.         ... 0.49812029 0.80689777 0.53007133]\n",
      " ...\n",
      " [0.6486493  0.5819357  0.49812029 ... 1.         0.53158769 0.64718325]\n",
      " [0.47185072 0.47853661 0.80689777 ... 0.53158769 1.         0.5421152 ]\n",
      " [0.59186403 0.53099079 0.53007133 ... 0.64718325 0.5421152  1.        ]]\n"
     ]
    }
   ],
   "source": [
    "#Find similarities amongst keywords\n",
    "sim_score = cosine_similarity(count_matrix)\n",
    "print(sim_score)"
   ]
  },
  {
   "cell_type": "code",
   "execution_count": 41,
   "metadata": {},
   "outputs": [
    {
     "data": {
      "text/plain": [
       "'Hotel Rivoli 3 Air conditioning,Closet,Daily housekeeping,Desk,Fan,Free Wi-Fi in all rooms!,Hair dryer,Heating,In-room safe box,Linens,Mini bar,On-demand movies,Satellite/cable channels,Telephone,Toiletries,Towels,Wake-up service,Wooden/parqueted flooring, Room size: 18 m²/194 ft², City view, Shower and bathtub, 1 single bed Single Room Germany'"
      ]
     },
     "execution_count": 41,
     "metadata": {},
     "output_type": "execute_result"
    }
   ],
   "source": [
    "hotel_feat.iloc[0].comb_feat"
   ]
  },
  {
   "cell_type": "code",
   "execution_count": 42,
   "metadata": {},
   "outputs": [],
   "source": [
    "hotel_feat.reset_index(level=0, inplace=True) #create explicit index"
   ]
  },
  {
   "cell_type": "code",
   "execution_count": 43,
   "metadata": {},
   "outputs": [
    {
     "name": "stderr",
     "output_type": "stream",
     "text": [
      "<ipython-input-43-4b5b9ae8d911>:1: SettingWithCopyWarning: \n",
      "A value is trying to be set on a copy of a slice from a DataFrame.\n",
      "Try using .loc[row_indexer,col_indexer] = value instead\n",
      "\n",
      "See the caveats in the documentation: https://pandas.pydata.org/pandas-docs/stable/user_guide/indexing.html#returning-a-view-versus-a-copy\n",
      "  hotel_feat['index'] = hotel_feat.index\n"
     ]
    }
   ],
   "source": [
    "hotel_feat['index'] = hotel_feat.index"
   ]
  },
  {
   "cell_type": "code",
   "execution_count": 44,
   "metadata": {},
   "outputs": [
    {
     "data": {
      "text/html": [
       "<div>\n",
       "<style scoped>\n",
       "    .dataframe tbody tr th:only-of-type {\n",
       "        vertical-align: middle;\n",
       "    }\n",
       "\n",
       "    .dataframe tbody tr th {\n",
       "        vertical-align: top;\n",
       "    }\n",
       "\n",
       "    .dataframe thead th {\n",
       "        text-align: right;\n",
       "    }\n",
       "</style>\n",
       "<table border=\"1\" class=\"dataframe\">\n",
       "  <thead>\n",
       "    <tr style=\"text-align: right;\">\n",
       "      <th></th>\n",
       "      <th>index</th>\n",
       "      <th>hotelname</th>\n",
       "      <th>roomamenities</th>\n",
       "      <th>starrating</th>\n",
       "      <th>ratedescription</th>\n",
       "      <th>roomtype</th>\n",
       "      <th>country</th>\n",
       "      <th>comb_feat</th>\n",
       "    </tr>\n",
       "  </thead>\n",
       "  <tbody>\n",
       "    <tr>\n",
       "      <th>0</th>\n",
       "      <td>0</td>\n",
       "      <td>Hotel Rivoli</td>\n",
       "      <td>Air conditioning: ;Closet: ;Daily housekeeping...</td>\n",
       "      <td>3</td>\n",
       "      <td>Room size: 18 m²/194 ft², City view, Shower an...</td>\n",
       "      <td>Single Room</td>\n",
       "      <td>Germany</td>\n",
       "      <td>Hotel Rivoli 3 Air conditioning,Closet,Daily h...</td>\n",
       "    </tr>\n",
       "    <tr>\n",
       "      <th>1</th>\n",
       "      <td>1</td>\n",
       "      <td>Timhotel Tour Eiffel</td>\n",
       "      <td>Air conditioning: ;Alarm clock: ;Bathrobes: ;C...</td>\n",
       "      <td>3</td>\n",
       "      <td>Room size: 14 m²/151 ft², City view, Non-smoki...</td>\n",
       "      <td>Comfort Single Room</td>\n",
       "      <td>France</td>\n",
       "      <td>Timhotel Tour Eiffel 3 Air conditioning,Alarm ...</td>\n",
       "    </tr>\n",
       "    <tr>\n",
       "      <th>2</th>\n",
       "      <td>2</td>\n",
       "      <td>Hotel Paris Villette</td>\n",
       "      <td>Air conditioning: ;Free Wi-Fi in all rooms!: ;...</td>\n",
       "      <td>3</td>\n",
       "      <td>Free Wi-Fi, Extra low price! (non-refundable)</td>\n",
       "      <td>full size bed (1 big bed)</td>\n",
       "      <td>France</td>\n",
       "      <td>Hotel Paris Villette 3 Air conditioning,Free W...</td>\n",
       "    </tr>\n",
       "    <tr>\n",
       "      <th>3</th>\n",
       "      <td>3</td>\n",
       "      <td>Hotel Mons am Goetheplatz</td>\n",
       "      <td>Air conditioning: ;Free Wi-Fi in all rooms!: ;...</td>\n",
       "      <td>2</td>\n",
       "      <td>Room size: 16 m²/172 ft², Shared bathroom, 1 q...</td>\n",
       "      <td>Double Room with Shared Bathroom</td>\n",
       "      <td>Germany</td>\n",
       "      <td>Hotel Mons am Goetheplatz 2 Air conditioning,F...</td>\n",
       "    </tr>\n",
       "    <tr>\n",
       "      <th>4</th>\n",
       "      <td>4</td>\n",
       "      <td>Ibis Styles Hotel Paris Gare de Lyon Bastille</td>\n",
       "      <td>Air conditioning: ;Carpeting: ;Closet: ;Desk: ...</td>\n",
       "      <td>3</td>\n",
       "      <td>Room size: 13 m²/140 ft², Shower, 2 single beds</td>\n",
       "      <td>Standard Twin Room</td>\n",
       "      <td>France</td>\n",
       "      <td>Ibis Styles Hotel Paris Gare de Lyon Bastille ...</td>\n",
       "    </tr>\n",
       "  </tbody>\n",
       "</table>\n",
       "</div>"
      ],
      "text/plain": [
       "   index                                      hotelname  \\\n",
       "0      0                                   Hotel Rivoli   \n",
       "1      1                           Timhotel Tour Eiffel   \n",
       "2      2                           Hotel Paris Villette   \n",
       "3      3                      Hotel Mons am Goetheplatz   \n",
       "4      4  Ibis Styles Hotel Paris Gare de Lyon Bastille   \n",
       "\n",
       "                                       roomamenities  starrating  \\\n",
       "0  Air conditioning: ;Closet: ;Daily housekeeping...           3   \n",
       "1  Air conditioning: ;Alarm clock: ;Bathrobes: ;C...           3   \n",
       "2  Air conditioning: ;Free Wi-Fi in all rooms!: ;...           3   \n",
       "3  Air conditioning: ;Free Wi-Fi in all rooms!: ;...           2   \n",
       "4  Air conditioning: ;Carpeting: ;Closet: ;Desk: ...           3   \n",
       "\n",
       "                                     ratedescription  \\\n",
       "0  Room size: 18 m²/194 ft², City view, Shower an...   \n",
       "1  Room size: 14 m²/151 ft², City view, Non-smoki...   \n",
       "2      Free Wi-Fi, Extra low price! (non-refundable)   \n",
       "3  Room size: 16 m²/172 ft², Shared bathroom, 1 q...   \n",
       "4    Room size: 13 m²/140 ft², Shower, 2 single beds   \n",
       "\n",
       "                           roomtype  country  \\\n",
       "0                       Single Room  Germany   \n",
       "1               Comfort Single Room   France   \n",
       "2         full size bed (1 big bed)   France   \n",
       "3  Double Room with Shared Bathroom  Germany   \n",
       "4                Standard Twin Room   France   \n",
       "\n",
       "                                           comb_feat  \n",
       "0  Hotel Rivoli 3 Air conditioning,Closet,Daily h...  \n",
       "1  Timhotel Tour Eiffel 3 Air conditioning,Alarm ...  \n",
       "2  Hotel Paris Villette 3 Air conditioning,Free W...  \n",
       "3  Hotel Mons am Goetheplatz 2 Air conditioning,F...  \n",
       "4  Ibis Styles Hotel Paris Gare de Lyon Bastille ...  "
      ]
     },
     "execution_count": 44,
     "metadata": {},
     "output_type": "execute_result"
    }
   ],
   "source": [
    "hotel_feat.head()"
   ]
  },
  {
   "cell_type": "code",
   "execution_count": 45,
   "metadata": {},
   "outputs": [],
   "source": [
    "#helper functions\n",
    "def get_hotel_name(index):\n",
    "    return hotel_feat[hotel_feat['index'] == index]['hotelname'].values[0]\n",
    "def get_hotel_index(name):\n",
    "    return hotel_feat[hotel_feat['hotelname'] == name]['index'].values[0]"
   ]
  },
  {
   "cell_type": "code",
   "execution_count": 49,
   "metadata": {},
   "outputs": [],
   "source": [
    "#user entry\n",
    "hotel_liked = 'Hotel Premier'\n",
    "hotel_idx = get_hotel_index(hotel_liked)\n",
    "similar_hotels = list(enumerate(sim_score[hotel_idx]))"
   ]
  },
  {
   "cell_type": "code",
   "execution_count": 50,
   "metadata": {},
   "outputs": [],
   "source": [
    "#recommend\n",
    "sim_hotels = sorted(similar_hotels, key=lambda x: x[1], reverse=True)[1:11]"
   ]
  },
  {
   "cell_type": "code",
   "execution_count": 51,
   "metadata": {},
   "outputs": [
    {
     "name": "stdout",
     "output_type": "stream",
     "text": [
      "Hotel Internazionale Gorizia\n",
      "Les Camelias\n",
      "Hotel Hennies\n",
      "Hotel Balfagon\n",
      "ibis Auxerre Sud\n",
      "Hotel The Originals Acadine Pont-Audemer\n",
      "Hotel Rythme\n",
      "Hotel Tatranec\n",
      "Hotel Sorbona\n",
      "Hotel Vert\n"
     ]
    }
   ],
   "source": [
    "\n",
    "for bk in sim_hotels:\n",
    "    print(get_hotel_name(bk[0]))"
   ]
  },
  {
   "cell_type": "code",
   "execution_count": null,
   "metadata": {},
   "outputs": [],
   "source": []
  }
 ],
 "metadata": {
  "kernelspec": {
   "display_name": "Python 3",
   "language": "python",
   "name": "python3"
  },
  "language_info": {
   "codemirror_mode": {
    "name": "ipython",
    "version": 3
   },
   "file_extension": ".py",
   "mimetype": "text/x-python",
   "name": "python",
   "nbconvert_exporter": "python",
   "pygments_lexer": "ipython3",
   "version": "3.8.5"
  }
 },
 "nbformat": 4,
 "nbformat_minor": 4
}
